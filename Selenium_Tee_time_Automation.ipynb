{
 "cells": [
  {
   "cell_type": "code",
   "execution_count": 2,
   "metadata": {},
   "outputs": [],
   "source": [
    "import time\n",
    "from selenium import webdriver\n",
    "from selenium.webdriver.common.keys import Keys\n",
    "from selenium.webdriver.support.select import Select\n",
    "import datetime"
   ]
  },
  {
   "cell_type": "code",
   "execution_count": 1,
   "metadata": {},
   "outputs": [],
   "source": [
    "#Tee Times come in format of '6:39am\\n18\\n4' only grabbing AM so just focus on numbers. \n",
    "def cleanTime(tee_times):\n",
    "    sep = \"a\"\n",
    "    clean_AM = []\n",
    "    for tee in tee_times:\n",
    "        clean_AM.append(tee.split(sep, 1)[0])\n",
    "    return clean_AM"
   ]
  },
  {
   "cell_type": "code",
   "execution_count": 4,
   "metadata": {},
   "outputs": [],
   "source": [
    "#Only interested in AM tee times. \n",
    "def findAM(tee_times):\n",
    "    subs = 'am'\n",
    "    times_AM = list(filter(lambda x: subs in x, tee_times))\n",
    "    return times_AM "
   ]
  },
  {
   "cell_type": "code",
   "execution_count": 5,
   "metadata": {},
   "outputs": [],
   "source": [
    "#find best tee time only 8 or 9 AM times. First one will be booked. \n",
    "def bestTime(times_AM):\n",
    "    tee_eight = list(filter(lambda x: '8' in x, times_AM))\n",
    "    if tee_eight == []:\n",
    "        tee_nine = list(filter(lambda x: '9' in x, times_AM))\n",
    "        if tee_nine == []:\n",
    "            print(\"NO GOOD TIMES FOR YOU\")\n",
    "        else: \n",
    "            my_time = tee_nine[0]\n",
    "            return my_time\n",
    "    else: \n",
    "        my_time = tee_eight[0]\n",
    "        return my_time"
   ]
  },
  {
   "cell_type": "code",
   "execution_count": 6,
   "metadata": {},
   "outputs": [],
   "source": [
    "#Write a function to find the next Saturday\n",
    "def getSaturday():\n",
    "    d=datetime.date.today()\n",
    "    d.day\n",
    "    if d.weekday() == 5:\n",
    "        d += datetime.timedelta(7)\n",
    "        print('next saturday is',d.day)\n",
    "    else:\n",
    "        while d.weekday() != 5:\n",
    "            d += datetime.timedelta(1)\n",
    "    return d"
   ]
  },
  {
   "cell_type": "code",
   "execution_count": 7,
   "metadata": {},
   "outputs": [],
   "source": [
    "#Do not post sensittive data to internet. Keep info in local file \n",
    "data = pd.read_csv('info.txt')\n",
    "username = data['Login Info'][0]\n",
    "password= data['Login Info'][1]\n",
    "V_WEBSITE = data['Login Info'][2]"
   ]
  },
  {
   "cell_type": "code",
   "execution_count": 8,
   "metadata": {},
   "outputs": [
    {
     "name": "stdout",
     "output_type": "stream",
     "text": [
      "next saturday is 5\n"
     ]
    },
    {
     "data": {
      "text/plain": [
       "'06-05-2021'"
      ]
     },
     "execution_count": 8,
     "metadata": {},
     "output_type": "execute_result"
    }
   ],
   "source": [
    "#I like to golf on Saturday. Find next saturday \n",
    "day_saturday = getSaturday()\n",
    "sat_string = day_saturday.strftime(\"%m-%d-%Y\")\n",
    "sat_string"
   ]
  },
  {
   "cell_type": "code",
   "execution_count": 9,
   "metadata": {},
   "outputs": [],
   "source": [
    "#create an instance of firefox using selenium. Sleep to allow load times\n",
    "driver = webdriver.Firefox()\n",
    "time.sleep(2)"
   ]
  },
  {
   "cell_type": "code",
   "execution_count": 10,
   "metadata": {},
   "outputs": [],
   "source": [
    "#Maximize the window. When window is small some of the text boxes change to drop downs\n",
    "driver.maximize_window()"
   ]
  },
  {
   "cell_type": "code",
   "execution_count": 11,
   "metadata": {},
   "outputs": [],
   "source": [
    "#open the website\n",
    "driver.get(V_WEBSITE)\n",
    "time.sleep(2)"
   ]
  },
  {
   "cell_type": "code",
   "execution_count": 12,
   "metadata": {},
   "outputs": [],
   "source": [
    "#Find the xpath of the first button needed for log-in\n",
    "resident_xpath = '//*[@id=\"content\"]/div/button[1]'\n",
    "driver.find_element_by_xpath(resident_xpath).click()\n",
    "time.sleep(2)"
   ]
  },
  {
   "cell_type": "code",
   "execution_count": 13,
   "metadata": {},
   "outputs": [],
   "source": [
    "#click log-in\n",
    "driver.find_element_by_class_name('login').click()"
   ]
  },
  {
   "cell_type": "code",
   "execution_count": 14,
   "metadata": {},
   "outputs": [],
   "source": [
    "#find email field and fill in \n",
    "email_box = driver.find_element_by_id('login_email')\n",
    "email_box.send_keys(username)"
   ]
  },
  {
   "cell_type": "code",
   "execution_count": 15,
   "metadata": {},
   "outputs": [],
   "source": [
    "#find password field and fill in \n",
    "pass_box = driver.find_element_by_id('login_password')\n",
    "pass_box.send_keys(password)"
   ]
  },
  {
   "cell_type": "code",
   "execution_count": 16,
   "metadata": {},
   "outputs": [],
   "source": [
    "#find CSS selector for submit button. Note: Xpath was messy \n",
    "login_CSS=driver.find_element_by_css_selector('.col-md-2')\n",
    "login_CSS.click()\n",
    "time.sleep(2)"
   ]
  },
  {
   "cell_type": "code",
   "execution_count": 17,
   "metadata": {},
   "outputs": [],
   "source": [
    "#now we are logged in and at the profile page. There is only one button on display\n",
    "#use this button to get to tee time reservations \n",
    "reserve_CSS=driver.find_element_by_css_selector('.btn')\n",
    "reserve_CSS.click()"
   ]
  },
  {
   "cell_type": "code",
   "execution_count": 18,
   "metadata": {},
   "outputs": [],
   "source": [
    "#allow time to load\n",
    "time.sleep(2)"
   ]
  },
  {
   "cell_type": "code",
   "execution_count": 19,
   "metadata": {},
   "outputs": [],
   "source": [
    "#use the dropdown menu to select the course that we are looking to play \n",
    "el = driver.find_element_by_id('schedule_select')\n",
    "for option in el.find_elements_by_tag_name('option'):\n",
    "    if option.text == 'Bethpage Blue Course':\n",
    "        #print(option.text)\n",
    "        option.click() # select() in earlier versions of webdriver\n",
    "        break\n"
   ]
  },
  {
   "cell_type": "code",
   "execution_count": 20,
   "metadata": {},
   "outputs": [],
   "source": [
    "#check off that we have 4 players\n",
    "players_CSS=driver.find_element_by_css_selector('a.btn:nth-child(4)')\n",
    "players_CSS.click()"
   ]
  },
  {
   "cell_type": "code",
   "execution_count": 21,
   "metadata": {},
   "outputs": [],
   "source": [
    "#enter the date that we want to play by deleting the current date\n",
    "#enter satureday string\n",
    "date_box = driver.find_element_by_id('date-field')\n",
    "time.sleep(2)\n",
    "date_box.send_keys(Keys.CONTROL + \"a\")\n",
    "date_box.send_keys(Keys.DELETE)\n",
    "date_box.send_keys(sat_string)\n",
    "date_box.send_keys(Keys.ENTER)\n",
    "time.sleep(2)"
   ]
  },
  {
   "cell_type": "code",
   "execution_count": 21,
   "metadata": {},
   "outputs": [],
   "source": [
    "#get all the tee times \n",
    "elements = driver.find_elements_by_class_name('reserve-time')\n",
    "tee_times = []\n",
    "for e in elements:\n",
    "    tee_times.append(e.text)"
   ]
  },
  {
   "cell_type": "code",
   "execution_count": 22,
   "metadata": {},
   "outputs": [
    {
     "data": {
      "text/plain": [
       "['6:39am\\n18\\n4',\n",
       " '6:57am\\n18\\n4',\n",
       " '8:18am\\n18\\n4',\n",
       " '9:39am\\n18\\n4',\n",
       " '10:51am\\n18\\n4']"
      ]
     },
     "execution_count": 22,
     "metadata": {},
     "output_type": "execute_result"
    }
   ],
   "source": [
    "#focus on AM tee times\n",
    "time_AM = findAM(tee_times)\n",
    "time_AM"
   ]
  },
  {
   "cell_type": "code",
   "execution_count": 23,
   "metadata": {},
   "outputs": [],
   "source": [
    "#get it in readable format \n",
    "clean_AM = cleanTime(time_AM)"
   ]
  },
  {
   "cell_type": "code",
   "execution_count": 24,
   "metadata": {},
   "outputs": [
    {
     "data": {
      "text/plain": [
       "'8:18'"
      ]
     },
     "execution_count": 24,
     "metadata": {},
     "output_type": "execute_result"
    }
   ],
   "source": [
    "# what time is best for you, 8-9\n",
    "my_time = bestTime(clean_AM)\n",
    "my_time"
   ]
  },
  {
   "cell_type": "code",
   "execution_count": 26,
   "metadata": {},
   "outputs": [
    {
     "data": {
      "text/plain": [
       "2"
      ]
     },
     "execution_count": 26,
     "metadata": {},
     "output_type": "execute_result"
    }
   ],
   "source": [
    "#find the index of the element so we know what to click on \n",
    "x_index = [s for s in tee_times if my_time in s]\n",
    "index_e = tee_times.index(x_index[0])\n",
    "index_e"
   ]
  },
  {
   "cell_type": "code",
   "execution_count": 27,
   "metadata": {},
   "outputs": [],
   "source": [
    "#click on the tee time \n",
    "my_element = elements[index_e]\n",
    "my_element.click()\n",
    "time.sleep(1)"
   ]
  },
  {
   "cell_type": "code",
   "execution_count": null,
   "metadata": {},
   "outputs": [],
   "source": [
    "#book the tee time\n",
    "book_xpath=driver.find_element_by_css_selector('.btn-success')\n",
    "book_xpath.click()"
   ]
  }
 ],
 "metadata": {
  "kernelspec": {
   "display_name": "Python 3",
   "language": "python",
   "name": "python3"
  },
  "language_info": {
   "codemirror_mode": {
    "name": "ipython",
    "version": 3
   },
   "file_extension": ".py",
   "mimetype": "text/x-python",
   "name": "python",
   "nbconvert_exporter": "python",
   "pygments_lexer": "ipython3",
   "version": "3.8.3"
  }
 },
 "nbformat": 4,
 "nbformat_minor": 4
}
